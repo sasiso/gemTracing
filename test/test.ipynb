{
 "cells": [
  {
   "cell_type": "code",
   "execution_count": null,
   "id": "d10c0dcd",
   "metadata": {},
   "outputs": [],
   "source": [
    "import cv2\n",
    "import numpy as np\n",
    "import os\n",
    "\n",
    "# Load the image\n",
    "image_path = './opal2.jpeg'\n",
    "assert os.path.exists(image_path)\n",
    "\n",
    "img = cv2.imread(image_path)"
   ]
  },
  {
   "cell_type": "code",
   "execution_count": null,
   "id": "28a67063",
   "metadata": {},
   "outputs": [],
   "source": [
    "import cv2\n",
    "from matplotlib import pyplot as plt"
   ]
  },
  {
   "cell_type": "code",
   "execution_count": null,
   "id": "a74229f9",
   "metadata": {},
   "outputs": [],
   "source": [
    "plt.imshow(cv2.cvtColor(img, cv2.COLOR_BGR2RGB))\n",
    "plt.axis('off')  # Hide axis\n",
    "plt.show()"
   ]
  },
  {
   "cell_type": "code",
   "execution_count": null,
   "id": "94488af0",
   "metadata": {},
   "outputs": [],
   "source": [
    "# Convert to grayscale\n",
    "gray = cv2.cvtColor(img, cv2.COLOR_BGR2GRAY)\n",
    "gray = cv2.convertScaleAbs(gray)\n",
    "median_blur = cv2.medianBlur(gray, 5)\n",
    "plt.imshow(cv2.cvtColor(median_blur, cv2.COLOR_BGR2RGB))\n",
    "\n",
    "edges = cv2.Canny(median_blur, 100, 200)\n",
    "plt.imshow(cv2.cvtColor(edges, cv2.COLOR_BGR2RGB))"
   ]
  },
  {
   "cell_type": "code",
   "execution_count": null,
   "id": "c51243ee",
   "metadata": {},
   "outputs": [],
   "source": [
    "ret, thresh = cv2.threshold(edges, 127, 255, 0)\n",
    "plt.imshow(cv2.cvtColor(thresh, cv2.COLOR_BGR2RGB))\n",
    "contours, hierarchy = cv2.findContours(thresh, cv2.RETR_TREE, cv2.CHAIN_APPROX_SIMPLE)\n",
    "# Find the biggest contour\n",
    "print(len(contours))\n",
    "\n",
    "cv2.drawContours(img, contours, -1, (0,255,0), 3)\n",
    "plt.imshow(cv2.cvtColor(img, cv2.COLOR_BGR2RGB))"
   ]
  },
  {
   "cell_type": "code",
   "execution_count": null,
   "id": "a383f0fe",
   "metadata": {},
   "outputs": [],
   "source": [
    "image = img\n",
    "vertical_line_length_px = None\n",
    "\n",
    "# Iterate through contours\n",
    "for contour in contours:\n",
    "    # Find the bounding box of the contour\n",
    "    x, y, w, h = cv2.boundingRect(contour)\n",
    "    \n",
    "    # Compute the center coordinates\n",
    "    cx = x + w // 2\n",
    "    cy = y + h // 2\n",
    "    \n",
    "    # Compute the total height and width\n",
    "    total_height = h\n",
    "    total_width = w\n",
    "    \n",
    "    # Draw horizontal and vertical lines through the center\n",
    "    cv2.line(image, (x, cy), (x + w, cy), (255, 255, 0), 2)  # Horizontal line\n",
    "    cv2.line(image, (cx, y), (cx, y + h), (255, 255, 0), 2)  # Vertical line\n",
    "    vertical_line_length_px= h\n",
    "    \n",
    "    break\n",
    "    \n",
    "plt.imshow(cv2.cvtColor(img, cv2.COLOR_BGR2RGB))\n",
    "\n"
   ]
  },
  {
   "cell_type": "markdown",
   "id": "7a9bfdee",
   "metadata": {},
   "source": []
  },
  {
   "cell_type": "code",
   "execution_count": null,
   "id": "6462e93f",
   "metadata": {},
   "outputs": [],
   "source": [
    "# Ask user for the length of the vertical line in mm\n",
    "vertical_line_length_mm = float(input(\"Enter the length of the vertical line in mm: \"))"
   ]
  },
  {
   "cell_type": "code",
   "execution_count": null,
   "id": "a8d6cd42",
   "metadata": {},
   "outputs": [],
   "source": [
    "\n",
    "\n",
    "# Calculate conversion factor for pixels to mm\n",
    "\n",
    "px_to_mm_vertical = vertical_line_length_mm / vertical_line_length_px\n",
    "\n",
    "# Draw grid\n",
    "grid_size_mm = 1\n",
    "grid_color = (0, 0, 255)  # Color of the grid lines\n",
    "for i in range(0, image.shape[0], int(grid_size_mm / px_to_mm_vertical)):\n",
    "    cv2.line(image, (0, i), (image.shape[1], i), grid_color, 1)  # Horizontal lines\n",
    "for j in range(0, image.shape[1], int(grid_size_mm / px_to_mm_vertical)):\n",
    "    cv2.line(image, (j, 0), (j, image.shape[0]), grid_color, 1)  # Vertical lines\n",
    "    \n",
    "# Display total height and width\n",
    "cv2.putText(image, f'{total_height * px_to_mm_vertical} mm', (x, y - 10), cv2.FONT_HERSHEY_SIMPLEX, 0.5, (0, 255, 0), 2)\n",
    "cv2.putText(image, f'{total_width * px_to_mm_vertical}mm', (x, y - 30), cv2.FONT_HERSHEY_SIMPLEX, 0.5, (0, 255, 0), 2)\n",
    "    \n",
    "print(f'Total Height: {total_height * px_to_mm_vertical} mm')\n",
    "print(f'Total Width: {total_width * px_to_mm_vertical}mm')\n",
    "\n",
    "# Define offset (in pixels)\n",
    "offset = 50\n",
    "\n",
    "# Iterate through contours\n",
    "for contour in contours:\n",
    "    # Get bounding box coordinates\n",
    "    x, y, w, h = cv2.boundingRect(contour)\n",
    "    \n",
    "    # Add offset to bounding box coordinates\n",
    "    x -= offset\n",
    "    y -= offset\n",
    "    w += 2 * offset\n",
    "    h += 2 * offset\n",
    "    \n",
    "    # Ensure the bounding box coordinates are within the image bounds\n",
    "    x = max(0, x)\n",
    "    y = max(0, y)\n",
    "    w = min(w, image.shape[1] - x)\n",
    "    h = min(h, image.shape[0] - y)\n",
    "    \n",
    "    # Crop the region around the contour with offset\n",
    "    cropped_image = image[y:y+h, x:x+w]\n",
    "    \n",
    "    plt.imshow(cv2.cvtColor(cropped_image, cv2.COLOR_BGR2RGB))\n",
    "    break\n"
   ]
  },
  {
   "cell_type": "code",
   "execution_count": null,
   "id": "0e2f0a36",
   "metadata": {},
   "outputs": [],
   "source": []
  }
 ],
 "metadata": {
  "kernelspec": {
   "display_name": "my-virtualenv-name",
   "language": "python",
   "name": "my-virtualenv-name"
  },
  "language_info": {
   "codemirror_mode": {
    "name": "ipython",
    "version": 3
   },
   "file_extension": ".py",
   "mimetype": "text/x-python",
   "name": "python",
   "nbconvert_exporter": "python",
   "pygments_lexer": "ipython3",
   "version": "3.11.9"
  }
 },
 "nbformat": 4,
 "nbformat_minor": 5
}
