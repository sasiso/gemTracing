{
 "cells": [
  {
   "cell_type": "code",
   "execution_count": null,
   "id": "d10c0dcd",
   "metadata": {},
   "outputs": [],
   "source": [
    "import cv2\n",
    "import numpy as np\n",
    "import os\n",
    "\n",
    "# Load the image\n",
    "image_path = './1.jpg'\n",
    "assert os.path.exists(image_path)\n",
    "\n",
    "img = cv2.imread(image_path)"
   ]
  },
  {
   "cell_type": "code",
   "execution_count": null,
   "id": "28a67063",
   "metadata": {},
   "outputs": [],
   "source": [
    "import cv2\n",
    "from matplotlib import pyplot as plt"
   ]
  },
  {
   "cell_type": "code",
   "execution_count": null,
   "id": "a74229f9",
   "metadata": {},
   "outputs": [],
   "source": [
    "plt.imshow(cv2.cvtColor(img, cv2.COLOR_BGR2RGB))\n",
    "plt.axis('off')  # Hide axis\n",
    "plt.show()"
   ]
  },
  {
   "cell_type": "code",
   "execution_count": null,
   "id": "94488af0",
   "metadata": {},
   "outputs": [],
   "source": [
    "# Convert to grayscale\n",
    "gray = cv2.cvtColor(img, cv2.COLOR_BGR2GRAY)\n",
    "gray = cv2.convertScaleAbs(gray)\n",
    "median_blur = cv2.medianBlur(gray, 5)\n",
    "plt.imshow(cv2.cvtColor(median_blur, cv2.COLOR_BGR2RGB))\n",
    "\n",
    "edges = cv2.Canny(median_blur, 100, 200)\n",
    "plt.imshow(cv2.cvtColor(edges, cv2.COLOR_BGR2RGB))"
   ]
  },
  {
   "cell_type": "code",
   "execution_count": null,
   "id": "c51243ee",
   "metadata": {},
   "outputs": [],
   "source": [
    "ret, thresh = cv2.threshold(edges, 127, 255, 0)\n",
    "plt.imshow(cv2.cvtColor(thresh, cv2.COLOR_BGR2RGB))\n",
    "contours, hierarchy = cv2.findContours(thresh, cv2.RETR_TREE, cv2.CHAIN_APPROX_SIMPLE)\n",
    "# Find the biggest contour\n",
    "print(len(contours))\n",
    "\n",
    "cv2.drawContours(img, contours, -1, (0,255,0), 3)\n",
    "plt.imshow(cv2.cvtColor(img, cv2.COLOR_BGR2RGB))"
   ]
  },
  {
   "cell_type": "code",
   "execution_count": null,
   "id": "e2b3d47d",
   "metadata": {},
   "outputs": [],
   "source": [
    "\n",
    "\n",
    "# Create an empty list to store all vertices and faces\n",
    "all_vertices = []\n",
    "all_faces = []\n",
    "\n",
    "# Iterate over all contours\n",
    "for contour in contours:\n",
    "    # Extrude the contour to give it depth\n",
    "    depth = 10  # Adjust as needed\n",
    "    extruded_contour = np.dstack((contour[:, 0, 0], contour[:, 0, 1], np.zeros_like(contour[:, 0, 0]))).reshape((-1, 3))\n",
    "\n",
    "    # Create the mesh for the current contour\n",
    "    vertices = np.vstack((extruded_contour, extruded_contour + [0, 0, depth]))\n",
    "    faces = []\n",
    "\n",
    "    # Triangulate the faces for the current contour\n",
    "    for i in range(len(extruded_contour) - 1):\n",
    "        faces.append([i, i + 1, i + len(extruded_contour)])\n",
    "        faces.append([i + 1, i + len(extruded_contour) + 1, i + len(extruded_contour)])\n",
    "\n",
    "    # Connect the extruded contour to fill the space and create a solid volume\n",
    "    for i in range(len(extruded_contour) - 1):\n",
    "        faces.append([i, i + 1, i + len(extruded_contour)])\n",
    "        faces.append([i + 1, i + len(extruded_contour) + 1, i + len(extruded_contour)])\n",
    "        faces.append([i, i + len(extruded_contour), i + len(extruded_contour) + 1])\n",
    "        faces.append([i, i + len(extruded_contour) + 1, i + 1])\n",
    "\n",
    "    # Append the vertices and faces of the current contour to the lists\n",
    "    all_vertices.append(vertices)\n",
    "    all_faces.append(np.array(faces))\n",
    "\n",
    "# Concatenate all vertices and faces\n",
    "all_vertices = np.concatenate(all_vertices)\n",
    "cumulative_vertex_count = np.cumsum([0] + [len(v) for v in all_vertices[:-1]])\n",
    "\n",
    "all_faces_concatenated = []\n",
    "for i, faces in enumerate(all_faces):\n",
    "    all_faces_concatenated.append(faces + cumulative_vertex_count[i])\n",
    "\n",
    "all_faces_concatenated = np.concatenate(all_faces_concatenated)\n",
    "\n",
    "# Create the mesh\n",
    "stl_mesh = mesh.Mesh(np.zeros(len(all_faces_concatenated), dtype=mesh.Mesh.dtype))\n",
    "for i, f in enumerate(all_faces_concatenated):\n",
    "    for j in range(3):\n",
    "        stl_mesh.vectors[i][j] = all_vertices[f[j], :]\n",
    "\n",
    "# Save the mesh as an STL file\n",
    "stl_mesh.save('output_solid_all_contours.stl')\n"
   ]
  },
  {
   "cell_type": "code",
   "execution_count": null,
   "id": "a8d6cd42",
   "metadata": {},
   "outputs": [],
   "source": []
  },
  {
   "cell_type": "code",
   "execution_count": null,
   "id": "0e2f0a36",
   "metadata": {},
   "outputs": [],
   "source": []
  }
 ],
 "metadata": {
  "kernelspec": {
   "display_name": "my-virtualenv-name",
   "language": "python",
   "name": "my-virtualenv-name"
  },
  "language_info": {
   "codemirror_mode": {
    "name": "ipython",
    "version": 3
   },
   "file_extension": ".py",
   "mimetype": "text/x-python",
   "name": "python",
   "nbconvert_exporter": "python",
   "pygments_lexer": "ipython3",
   "version": "3.11.9"
  }
 },
 "nbformat": 4,
 "nbformat_minor": 5
}
